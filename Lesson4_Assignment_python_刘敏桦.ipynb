{
 "cells": [
  {
   "cell_type": "markdown",
   "metadata": {},
   "source": [
    "![](https://img.kaikeba.com/web/kkb_index/img_index_logo.png)\n",
    "# 基础课第一部分（python）第四次作业  \n",
    "同学们～大家好！欢迎大家来到基础课python部分作业，本次作业有两个部分，理论部分 和 编程实践部分。\n",
    "## 理论部分\n",
    "### 1. python中可以使用`import`导入哪些对象？"
   ]
  },
  {
   "cell_type": "markdown",
   "metadata": {},
   "source": [
    "你的回答：模块、包、模块内的部分函数与变量，模块可以是自带的也可以是第三方库。"
   ]
  },
  {
   "cell_type": "markdown",
   "metadata": {},
   "source": [
    "### 2. 机器学习和函数/模块的思想有哪些异同？"
   ]
  },
  {
   "cell_type": "markdown",
   "metadata": {},
   "source": [
    "你的回答：函数的思想是给定X, 用特定的方法和逻辑去把y解出来。这个特定的方法就是函数。\n",
    "而机器学习是给出变量x以及结果y，然后让计算机去搞明白这个关于x的函数是什么。\n"
   ]
  },
  {
   "cell_type": "markdown",
   "metadata": {},
   "source": [
    "## 编程实践部分\n",
    "### 3. 安装 `numpy`, `matplotlib`,`sklearn`包, 并测试是否安装完成  \n",
    "如果遇到错误，请阅读错误并尝试自己解决  \n",
    "执行以下代码不报错\n",
    "``` python\n",
    "import numpy as np\n",
    "import matplotlib \n",
    "import sklearn\n",
    "```\n",
    "### 4. 打乱数据集  \n",
    "同时打乱 x,y，保证数据和标签的对应关系\n",
    "``` python\n",
    "x = ['快递太慢了！','不好吃','特别难吃','要齁死我了','很划算','下次还来','味道很不错！','香']\n",
    "y = ['差评','差评','差评','差评','好评','好评','好评','好评']\n",
    "```"
   ]
  },
  {
   "cell_type": "code",
   "execution_count": 105,
   "metadata": {},
   "outputs": [
    {
     "name": "stdout",
     "output_type": "stream",
     "text": [
      "[[1 2 3]\n",
      " [4 5 6]]\n"
     ]
    },
    {
     "data": {
      "image/png": "[encoded data removed]",
      "text/plain": [
       "<Figure size 432x288 with 1 Axes>"
      ]
     },
     "metadata": {
      "needs_background": "light"
     },
     "output_type": "display_data"
    }
   ],
   "source": [
    "#安装 `numpy`, `matplotlib`,`sklearn`包, 并测试是否安装完成\n",
    "import numpy as np\n",
    "import matplotlib.pyplot as plt \n",
    "import sklearn\n",
    "\n",
    "a = np.array([[1, 2, 3], [4, 5, 6]])   \n",
    "print(a)\n",
    "\n",
    "a = [i for i in range(-20,21,1)]\n",
    "b = [i**2 for i in a]\n",
    "plt.plot(a,b)\n",
    "plt.show()\n",
    "\n"
   ]
  },
  {
   "cell_type": "code",
   "execution_count": 91,
   "metadata": {},
   "outputs": [
    {
     "name": "stdout",
     "output_type": "stream",
     "text": [
      "很划算 : 好评\n",
      "不好吃 : 差评\n",
      "快递太慢了！ : 差评\n",
      "要齁死我了 : 差评\n",
      "下次还来 : 好评\n",
      "味道很不错！ : 好评\n",
      "香 : 好评\n",
      "特别难吃 : 差评\n"
     ]
    }
   ],
   "source": [
    "# your code\n",
    "import numpy as np # you may need import some package\n",
    "x = ['快递太慢了！','不好吃','特别难吃','要齁死我了','很划算','下次还来','味道很不错！','香']\n",
    "y = ['差评','差评','差评','差评','好评','好评','好评','好评']\n",
    "\n",
    "def shuffle(x,y):\n",
    "    x = np.array(x)\n",
    "    y = np.array(y)\n",
    "    index = [i for i in range(len(x))]\n",
    "    np.random.shuffle(index) \n",
    "    x = x[index]\n",
    "    y = y[index]\n",
    "    return x,y\n",
    "\n",
    "# print result for certify\n",
    "x,y = shuffle(x,y)\n",
    "for i,j in zip(x,y):\n",
    "    print(i,':',j)"
   ]
  },
  {
   "cell_type": "markdown",
   "metadata": {},
   "source": [
    "### 5. 单词统计  \n",
    "使用函数，统计每个单词的出现次数，返回字典(查阅资料导入已完成此功能的包)\n",
    "``` python\n",
    "text = '2019 年 十月 一日 上午 ， 庆祝 中华人民共和国 成立 70 周年 阅兵式 在 首都北京 盛大举行 ， 59 个 阅兵 方阵 ， 580 台受 阅 装备 ， 1.5 万人 的 参阅 队伍 接受 了 全国 人民 的 检阅 。 阅兵 装备 方队 展示 的 武器装备 皆 为 国产 现役 主战 装备 ， 40% 为 首次 展示 。 其中 近些年来 广受 全球 关注 的 东风 41 洲际 弹道导弹 ， 巨浪 二潜射 弹道导弹 ， 东风 17 高超音速 武器 系统 终于 揭幕 亮剑 ， 以 \" 不怒 自威 \" 的 形象 向 世界 展示 中国 捍卫 和平 的 意志 与 力量 。 相较 于 其他 首度 公开 亮相 的 武器装备 ， 这 三款 武器 多年 来 传闻 不断 ， 备受 关注 ， 并 因 其 \" 大国 基石 \" 的 地位 而 被 公众 赋予 特殊 的 期待 ， 这 三款 武器装备 实力 究竟 如何 ， 又 各自 承担 着 怎样 的 历史 \" 使命 \" 呢 ？ 本报 特约 相关 领域 军事 专家 ， 为 大家 详细 解读 这 三款 彰显 国威 ， 震撼 世界 的 国 之 重器 。'\n",
    "```"
   ]
  },
  {
   "cell_type": "code",
   "execution_count": 4,
   "metadata": {},
   "outputs": [
    {
     "name": "stdout",
     "output_type": "stream",
     "text": [
      "{'2019': 1, '年': 1, '十月': 1, '一日': 1, '上午': 1, '，': 15, '庆祝': 1, '中华人民共和国': 1, '成立': 1, '70': 1, '周年': 1, '阅兵式': 1, '在': 1, '首都北京': 1, '盛大举行': 1, '59': 1, '个': 1, '阅兵': 2, '方阵': 1, '580': 1, '台受': 1, '阅': 1, '装备': 3, '1.5': 1, '万人': 1, '的': 11, '参阅': 1, '队伍': 1, '接受': 1, '了': 1, '全国': 1, '人民': 1, '检阅': 1, '。': 4, '方队': 1, '展示': 3, '武器装备': 3, '皆': 1, '为': 3, '国产': 1, '现役': 1, '主战': 1, '40%': 1, '首次': 1, '其中': 1, '近些年来': 1, '广受': 1, '全球': 1, '关注': 2, '东风': 2, '41': 1, '洲际': 1, '弹道导弹': 2, '巨浪': 1, '二潜射': 1, '17': 1, '高超音速': 1, '武器': 2, '系统': 1, '终于': 1, '揭幕': 1, '亮剑': 1, '以': 1, '\"': 6, '不怒': 1, '自威': 1, '形象': 1, '向': 1, '世界': 2, '中国': 1, '捍卫': 1, '和平': 1, '意志': 1, '与': 1, '力量': 1, '相较': 1, '于': 1, '其他': 1, '首度': 1, '公开': 1, '亮相': 1, '这': 3, '三款': 3, '多年': 1, '来': 1, '传闻': 1, '不断': 1, '备受': 1, '并': 1, '因': 1, '其': 1, '大国': 1, '基石': 1, '地位': 1, '而': 1, '被': 1, '公众': 1, '赋予': 1, '特殊': 1, '期待': 1, '实力': 1, '究竟': 1, '如何': 1, '又': 1, '各自': 1, '承担': 1, '着': 1, '怎样': 1, '历史': 1, '使命': 1, '呢': 1, '？': 1, '本报': 1, '特约': 1, '相关': 1, '领域': 1, '军事': 1, '专家': 1, '大家': 1, '详细': 1, '解读': 1, '彰显': 1, '国威': 1, '震撼': 1, '国': 1, '之': 1, '重器': 1}\n"
     ]
    }
   ],
   "source": [
    "# your code\n",
    "from collections import Counter # which package ? (you can change to from ? import ?)\n",
    "\n",
    "def count_words(text):\n",
    "    c = Counter(text.split(' '))# your code here\n",
    "    pass\n",
    "    return dict(c)# return dict\n",
    "    \n",
    "\n",
    "# test \n",
    "text = '2019 年 十月 一日 上午 ， 庆祝 中华人民共和国 成立 70 周年 阅兵式 在 首都北京 盛大举行 ， 59 个 阅兵 方阵 ， 580 台受 阅 装备 ， 1.5 万人 的 参阅 队伍 接受 了 全国 人民 的 检阅 。 阅兵 装备 方队 展示 的 武器装备 皆 为 国产 现役 主战 装备 ， 40% 为 首次 展示 。 其中 近些年来 广受 全球 关注 的 东风 41 洲际 弹道导弹 ， 巨浪 二潜射 弹道导弹 ， 东风 17 高超音速 武器 系统 终于 揭幕 亮剑 ， 以 \" 不怒 自威 \" 的 形象 向 世界 展示 中国 捍卫 和平 的 意志 与 力量 。 相较 于 其他 首度 公开 亮相 的 武器装备 ， 这 三款 武器 多年 来 传闻 不断 ， 备受 关注 ， 并 因 其 \" 大国 基石 \" 的 地位 而 被 公众 赋予 特殊 的 期待 ， 这 三款 武器装备 实力 究竟 如何 ， 又 各自 承担 着 怎样 的 历史 \" 使命 \" 呢 ？ 本报 特约 相关 领域 军事 专家 ， 为 大家 详细 解读 这 三款 彰显 国威 ， 震撼 世界 的 国 之 重器 。'\n",
    "print(count_words(text))"
   ]
  },
  {
   "cell_type": "markdown",
   "metadata": {},
   "source": [
    "各位同学，我们已经学会了如何导包及安装包。  \n",
    "这个是后期AI课程的基础，大家一定要加油呀~\n",
    "![image alt <](http://5b0988e595225.cdn.sohucs.com/images/20190420/1d1070881fd540db817b2a3bdd967f37.gif)"
   ]
  }
 ],
 "metadata": {
  "kernelspec": {
   "display_name": "Python 3",
   "language": "python",
   "name": "python3"
  },
  "language_info": {
   "codemirror_mode": {
    "name": "ipython",
    "version": 3
   },
   "file_extension": ".py",
   "mimetype": "text/x-python",
   "name": "python",
   "nbconvert_exporter": "python",
   "pygments_lexer": "ipython3",
   "version": "3.7.4"
  }
 },
 "nbformat": 4,
 "nbformat_minor": 4
}
