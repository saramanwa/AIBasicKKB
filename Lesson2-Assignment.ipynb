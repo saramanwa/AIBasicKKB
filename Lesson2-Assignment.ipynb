{
 "cells": [
  {
   "cell_type": "code",
   "execution_count": 1,
   "metadata": {
    "scrolled": true
   },
   "outputs": [
    {
     "name": "stdout",
     "output_type": "stream",
     "text": [
      "周一的收入：100\n",
      "周一的支出：200\n",
      "7天的收入为： [100]\n",
      "7天的支出为： [200]\n",
      "每天的结余为： {'周一': -100}\n",
      "最终的结余为： -100\n",
      "-----------------------------\n",
      "周二的收入：100\n",
      "周二的支出：100\n",
      "7天的收入为： [100, 100]\n",
      "7天的支出为： [200, 100]\n",
      "每天的结余为： {'周一': -100, '周二': 0}\n",
      "最终的结余为： -100\n",
      "-----------------------------\n",
      "周三的收入：200\n",
      "周三的支出：300\n",
      "7天的收入为： [100, 100, 200]\n",
      "7天的支出为： [200, 100, 300]\n",
      "每天的结余为： {'周一': -100, '周二': 0, '周三': -100}\n",
      "最终的结余为： -200\n",
      "-----------------------------\n",
      "周四的收入：500\n",
      "周四的支出：200\n",
      "7天的收入为： [100, 100, 200, 500]\n",
      "7天的支出为： [200, 100, 300, 200]\n",
      "每天的结余为： {'周一': -100, '周二': 0, '周三': -100, '周四': 300}\n",
      "最终的结余为： 100\n",
      "-----------------------------\n",
      "周五的收入：1001\n",
      "周五的支出：200\n",
      "7天的收入为： [100, 100, 200, 500, 1001]\n",
      "7天的支出为： [200, 100, 300, 200, 200]\n",
      "每天的结余为： {'周一': -100, '周二': 0, '周三': -100, '周四': 300, '周五': 801}\n",
      "最终的结余为： 901\n",
      "-----------------------------\n",
      "周六的收入：500\n",
      "周六的支出：200\n",
      "7天的收入为： [100, 100, 200, 500, 1001, 500]\n",
      "7天的支出为： [200, 100, 300, 200, 200, 200]\n",
      "每天的结余为： {'周一': -100, '周二': 0, '周三': -100, '周四': 300, '周五': 801, '周六': 300}\n",
      "最终的结余为： 1201\n",
      "-----------------------------\n",
      "周天的收入：2200\n",
      "周天的支出：1855\n",
      "7天的收入为： [100, 100, 200, 500, 1001, 500, 2200]\n",
      "7天的支出为： [200, 100, 300, 200, 200, 200, 1855]\n",
      "每天的结余为： {'周一': -100, '周二': 0, '周三': -100, '周四': 300, '周五': 801, '周六': 300, '周天': 345}\n",
      "最终的结余为： 1546\n",
      "-----------------------------\n"
     ]
    }
   ],
   "source": [
    "weekdays =['周一','周二','周三','周四','周五','周六','周天']\n",
    "income = []\n",
    "expense = []\n",
    "balance_day = []\n",
    "balance = dict()\n",
    "\n",
    "for i in range(7):\n",
    "    income.append(int(input(weekdays[i]+'的收入：')))\n",
    "    expense.append(int(input(weekdays[i]+'的支出：')))\n",
    "    balance_day.append(income[i]-expense[i])\n",
    "    balance[weekdays[i]] = balance_day[i]\n",
    "    \n",
    "    print('7天的收入为：', income)\n",
    "    print('7天的支出为：', expense)\n",
    "    print('每天的结余为：', balance)\n",
    "    print('最终的结余为：',sum(balance_day))\n",
    "    print('-----------------------------')"
   ]
  },
  {
   "cell_type": "code",
   "execution_count": null,
   "metadata": {},
   "outputs": [],
   "source": [
    "all_account = []\n",
    "userdata = {'大富翁':30000}\n",
    "\n",
    "user = input('请输入您的账号名：')\n",
    "if user not in all_account:\n",
    "    userdata[user] = int(input(user+' 您好，你是新户，如需要开户，请输入你存入本行的金额'))\n",
    "    all_account.append(user)\n",
    "    print('开户成功!')\n",
    "     \n",
    "print('------------')\n",
    "print(user,'您好，欢迎回来，请选择你所需要的服务')\n",
    "instruct = 0\n",
    "while instruct != '4':\n",
    "    instruct = int(input('1.查询余额\\n 2.存款\\n 3.取款\\n 4.退出\\n'))\n",
    "    if instruct == '1':\n",
    "        print('您的余额为：', userdata[user])\n",
    "        continue\n",
    "    elif instruct == '2':\n",
    "        userdata[user] += int(input('请输入您要存入的金额'))\n",
    "        print('您现在的余额为：', userdata[user])\n",
    "    elif instruct == '3':\n",
    "        userdata[user] -= int(input('请输入您要取出的金额'))\n",
    "        print('您现在的余额为：', userdata[user])\n",
    "#\n",
    "    print('------------')\n",
    "while instruct == '4':\n",
    "        break\n",
    "print('您已成功退出，欢迎下次使用')"
   ]
  },
  {
   "cell_type": "code",
   "execution_count": null,
   "metadata": {},
   "outputs": [],
   "source": []
  },
  {
   "cell_type": "code",
   "execution_count": null,
   "metadata": {},
   "outputs": [],
   "source": []
  }
 ],
 "metadata": {
  "kernelspec": {
   "display_name": "Python 3",
   "language": "python",
   "name": "python3"
  }
 },
 "nbformat": 4,
 "nbformat_minor": 2
}
